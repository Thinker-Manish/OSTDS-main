{
 "cells": [
  {
   "cell_type": "markdown",
   "id": "c818b5dd",
   "metadata": {},
   "source": [
    "## This is jupyter Demo"
   ]
  },
  {
   "cell_type": "code",
   "execution_count": 1,
   "id": "b71f6efc",
   "metadata": {},
   "outputs": [
    {
     "name": "stdout",
     "output_type": "stream",
     "text": [
      "Jupyter Demo\n"
     ]
    }
   ],
   "source": [
    "print(\"Jupyter Demo\")"
   ]
  }
 ],
 "metadata": {
  "kernelspec": {
   "display_name": "Python 3 (ipykernel)",
   "language": "python",
   "name": "python3"
  },
  "language_info": {
   "codemirror_mode": {
    "name": "ipython",
    "version": 3
   },
   "file_extension": ".py",
   "mimetype": "text/x-python",
   "name": "python",
   "nbconvert_exporter": "python",
   "pygments_lexer": "ipython3",
   "version": "3.10.7"
  }
 },
 "nbformat": 4,
 "nbformat_minor": 5
}
