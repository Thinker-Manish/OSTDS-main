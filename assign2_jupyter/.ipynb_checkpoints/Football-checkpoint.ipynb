{
 "cells": [
  {
   "cell_type": "code",
   "execution_count": 49,
   "id": "c5845699",
   "metadata": {},
   "outputs": [
    {
     "name": "stdout",
     "output_type": "stream",
     "text": [
      "\n",
      "🔹 Premier League - Match Fixtures 🔹\n",
      "\n",
      "      Date       Home Team Score       Away Team                   Venue\n",
      "2024-08-16  Manchester Utd   1–0          Fulham            Old Trafford\n",
      "2024-08-17    Ipswich Town   0–2       Liverpool    Portman Road Stadium\n",
      "2024-08-17   Newcastle Utd   1–0     Southampton          St James' Park\n",
      "2024-08-17 Nott'ham Forest   1–1     Bournemouth         The City Ground\n",
      "2024-08-17         Everton   0–3        Brighton           Goodison Park\n",
      "2024-08-17         Arsenal   2–0          Wolves        Emirates Stadium\n",
      "2024-08-17        West Ham   1–2     Aston Villa          London Stadium\n",
      "2024-08-18       Brentford   2–1  Crystal Palace Gtech Community Stadium\n",
      "2024-08-18         Chelsea   0–2 Manchester City         Stamford Bridge\n",
      "2024-08-19  Leicester City   1–1       Tottenham      King Power Stadium\n"
     ]
    }
   ],
   "source": [
    "import requests\n",
    "from bs4 import BeautifulSoup\n",
    "import pandas as pd\n",
    "\n",
    "# URL for EPL match results\n",
    "url = \"https://fbref.com/en/comps/9/schedule/Premier-League-Scores-and-Fixtures\"\n",
    "\n",
    "# Send GET request\n",
    "headers = {\"User-Agent\": \"Mozilla/5.0\"}\n",
    "response = requests.get(url, headers=headers)\n",
    "soup = BeautifulSoup(response.content, \"html.parser\")\n",
    "\n",
    "# Find match table\n",
    "table = soup.select_one(\"table.stats_table\")\n",
    "\n",
    "# Extract match data correctly\n",
    "matches = []\n",
    "for row in table.find_all(\"tr\")[1:]:  # Skip header row\n",
    "    cols = row.find_all(\"td\")\n",
    "    if len(cols) < 10:\n",
    "        continue  # Skip incomplete rows\n",
    "\n",
    "    date = cols[1].text.strip()\n",
    "    home_team = cols[3].text.strip()\n",
    "    score = cols[5].text.strip()  # Match score\n",
    "    away_team = cols[7].text.strip()\n",
    "    venue = cols[9].text.strip()\n",
    "\n",
    "    matches.append([date, home_team, score, away_team, venue])\n",
    "\n",
    "# Convert to DataFrame\n",
    "df = pd.DataFrame(matches, columns=[\"Date\", \"Home Team\", \"Score\", \"Away Team\", \"Venue\"])\n",
    "\n",
    "# Display Title and First 10 Matches\n",
    "print(\"\\n🔹 Premier League - Match Fixtures 🔹\\n\")\n",
    "print(df.head(10).to_string(index=False))\n"
   ]
  },
  {
   "cell_type": "code",
   "execution_count": 39,
   "id": "ee89bc2e",
   "metadata": {},
   "outputs": [
    {
     "data": {
      "image/png": "[encoded data removed]",
      "text/plain": [
       "<Figure size 700x500 with 1 Axes>"
      ]
     },
     "metadata": {},
     "output_type": "display_data"
    }
   ],
   "source": [
    "import matplotlib.pyplot as plt\n",
    "\n",
    "# Ensure score column is valid\n",
    "if not df[\"Score\"].isnull().all():\n",
    "    # Split Score into Home & Away Goals safely\n",
    "    df[['Home Goals', 'Away Goals']] = df['Score'].str.split(\"–\", expand=True)\n",
    "\n",
    "    # Convert to integers, handling errors by replacing with NaN\n",
    "    df['Home Goals'] = pd.to_numeric(df['Home Goals'], errors='coerce')\n",
    "    df['Away Goals'] = pd.to_numeric(df['Away Goals'], errors='coerce')\n",
    "\n",
    "    # Drop rows where goals couldn't be parsed\n",
    "    df = df.dropna(subset=[\"Home Goals\", \"Away Goals\"]).astype({\"Home Goals\": int, \"Away Goals\": int})\n",
    "\n",
    "    # Classify Match Results\n",
    "    df['Result'] = df.apply(lambda x: \"Home Win\" if x[\"Home Goals\"] > x[\"Away Goals\"]\n",
    "                            else (\"Away Win\" if x[\"Home Goals\"] < x[\"Away Goals\"] else \"Draw\"), axis=1)\n",
    "\n",
    "    # Count Match Results\n",
    "    result_counts = df['Result'].value_counts()\n",
    "\n",
    "    # Plot Bar Chart: Home Wins vs. Away Wins vs. Draws\n",
    "    plt.figure(figsize=(7, 5))\n",
    "    plt.bar(result_counts.index, result_counts.values, color=['blue', 'red', 'gray'])\n",
    "    plt.title(\"Premier League Match Results - Home vs. Away vs. Draws\")\n",
    "    plt.xlabel(\"Match Result\")\n",
    "    plt.ylabel(\"Count\")\n",
    "    plt.show()\n",
    "else:\n",
    "    print(\"⚠️ No valid scores found, skipping result calculations.\")\n"
   ]
  },
  {
   "cell_type": "code",
   "execution_count": 50,
   "id": "a55bdc3e",
   "metadata": {},
   "outputs": [
    {
     "name": "stdout",
     "output_type": "stream",
     "text": [
      "\n",
      "📌 Matches involving Manchester City:\n",
      "\n",
      "      Date       Home Team Score       Away Team                        Venue\n",
      "2024-08-18         Chelsea   0–2 Manchester City              Stamford Bridge\n",
      "2024-08-24 Manchester City   4–1    Ipswich Town               Etihad Stadium\n",
      "2024-08-31        West Ham   1–3 Manchester City               London Stadium\n",
      "2024-09-14 Manchester City   2–1       Brentford               Etihad Stadium\n",
      "2024-09-22 Manchester City   2–2         Arsenal               Etihad Stadium\n",
      "2024-09-28   Newcastle Utd   1–1 Manchester City               St James' Park\n",
      "2024-10-05 Manchester City   3–2          Fulham               Etihad Stadium\n",
      "2024-10-20          Wolves   1–2 Manchester City             Molineux Stadium\n",
      "2024-10-26 Manchester City   1–0     Southampton               Etihad Stadium\n",
      "2024-11-02     Bournemouth   2–1 Manchester City             Vitality Stadium\n",
      "2024-11-09        Brighton   2–1 Manchester City The American Express Stadium\n",
      "2024-11-23 Manchester City   0–4       Tottenham               Etihad Stadium\n",
      "2024-12-01       Liverpool   2–0 Manchester City                      Anfield\n",
      "2024-12-04 Manchester City   3–0 Nott'ham Forest               Etihad Stadium\n",
      "2024-12-07  Crystal Palace   2–2 Manchester City                Selhurst Park\n",
      "2024-12-15 Manchester City   1–2  Manchester Utd               Etihad Stadium\n",
      "2024-12-21     Aston Villa   2–1 Manchester City                   Villa Park\n",
      "2024-12-26 Manchester City   1–1         Everton               Etihad Stadium\n",
      "2024-12-29  Leicester City   0–2 Manchester City           King Power Stadium\n",
      "2025-01-04 Manchester City   4–1        West Ham               Etihad Stadium\n",
      "2025-01-14       Brentford   2–2 Manchester City      Gtech Community Stadium\n",
      "2025-01-19    Ipswich Town   0–6 Manchester City         Portman Road Stadium\n",
      "2025-01-25 Manchester City   3–1         Chelsea               Etihad Stadium\n",
      "2025-02-02         Arsenal   5–1 Manchester City             Emirates Stadium\n",
      "2025-02-15 Manchester City         Newcastle Utd               Etihad Stadium\n",
      "2025-02-23 Manchester City             Liverpool               Etihad Stadium\n",
      "2025-02-26       Tottenham       Manchester City    Tottenham Hotspur Stadium\n",
      "2025-03-08 Nott'ham Forest       Manchester City              The City Ground\n",
      "2025-03-15 Manchester City              Brighton               Etihad Stadium\n",
      "2025-04-02 Manchester City        Leicester City               Etihad Stadium\n",
      "2025-04-05  Manchester Utd       Manchester City                 Old Trafford\n",
      "2025-04-12 Manchester City        Crystal Palace               Etihad Stadium\n",
      "2025-04-19         Everton       Manchester City                Goodison Park\n",
      "2025-04-26 Manchester City           Aston Villa               Etihad Stadium\n",
      "2025-05-03 Manchester City                Wolves               Etihad Stadium\n",
      "2025-05-10     Southampton       Manchester City            St Mary's Stadium\n",
      "2025-05-18 Manchester City           Bournemouth               Etihad Stadium\n",
      "2025-05-25          Fulham       Manchester City               Craven Cottage\n"
     ]
    }
   ],
   "source": [
    "# --- SORTING OPTIONS ---\n",
    "# Sort matches by Date (oldest first)\n",
    "df = df.sort_values(by=\"Date\")\n",
    "\n",
    "# --- FILTERING OPTIONS ---\n",
    "# View matches for a specific team\n",
    "team_name = \"Manchester City\"  # Change team name here\n",
    "team_matches = df[(df[\"Home Team\"] == team_name) | (df[\"Away Team\"] == team_name)]\n",
    "print(f\"\\n📌 Matches involving {team_name}:\\n\")\n",
    "print(team_matches.to_string(index=False))\n",
    "\n",
    "\n"
   ]
  },
  {
   "cell_type": "code",
   "execution_count": 47,
   "id": "4817ce5a",
   "metadata": {},
   "outputs": [
    {
     "name": "stdout",
     "output_type": "stream",
     "text": [
      "\n",
      "📊 Draw Matches:\n",
      "\n",
      "      Date       Home Team Score       Away Team                        Venue  Home Goals  Away Goals Result  Total Goals\n",
      "2024-08-17 Nott'ham Forest   1–1     Bournemouth              The City Ground           1           1   Draw            2\n",
      "2024-08-19  Leicester City   1–1       Tottenham           King Power Stadium           1           1   Draw            2\n",
      "2024-08-25     Bournemouth   1–1   Newcastle Utd             Vitality Stadium           1           1   Draw            2\n",
      "2024-08-31         Arsenal   1–1        Brighton             Emirates Stadium           1           1   Draw            2\n",
      "2024-08-31 Nott'ham Forest   1–1          Wolves              The City Ground           1           1   Draw            2\n",
      "2024-08-31    Ipswich Town   1–1          Fulham         Portman Road Stadium           1           1   Draw            2\n",
      "2024-09-01         Chelsea   1–1  Crystal Palace              Stamford Bridge           1           1   Draw            2\n",
      "2024-09-14        Brighton   0–0    Ipswich Town The American Express Stadium           0           0   Draw            0\n",
      "2024-09-14  Crystal Palace   2–2  Leicester City                Selhurst Park           2           2   Draw            4\n",
      "2024-09-14          Fulham   1–1        West Ham               Craven Cottage           1           1   Draw            2\n",
      "2024-09-21  Leicester City   1–1         Everton           King Power Stadium           1           1   Draw            2\n",
      "2024-09-21     Southampton   1–1    Ipswich Town            St Mary's Stadium           1           1   Draw            2\n",
      "2024-09-21  Crystal Palace   0–0  Manchester Utd                Selhurst Park           0           0   Draw            0\n",
      "2024-09-22        Brighton   2–2 Nott'ham Forest The American Express Stadium           2           2   Draw            4\n",
      "2024-09-22 Manchester City   2–2         Arsenal               Etihad Stadium           2           2   Draw            4\n",
      "2024-09-28       Brentford   1–1        West Ham      Gtech Community Stadium           1           1   Draw            2\n",
      "2024-09-28   Newcastle Utd   1–1 Manchester City               St James' Park           1           1   Draw            2\n",
      "2024-09-29    Ipswich Town   2–2     Aston Villa         Portman Road Stadium           2           2   Draw            4\n",
      "2024-10-05         Everton   0–0   Newcastle Utd                Goodison Park           0           0   Draw            0\n",
      "2024-10-06     Aston Villa   0–0  Manchester Utd                   Villa Park           0           0   Draw            0\n",
      "2024-10-06         Chelsea   1–1 Nott'ham Forest              Stamford Bridge           1           1   Draw            2\n",
      "2024-10-26        Brighton   2–2          Wolves The American Express Stadium           2           2   Draw            4\n",
      "2024-10-26     Aston Villa   1–1     Bournemouth                   Villa Park           1           1   Draw            2\n",
      "2024-10-26         Everton   1–1          Fulham                Goodison Park           1           1   Draw            2\n",
      "2024-10-27         Arsenal   2–2       Liverpool             Emirates Stadium           2           2   Draw            4\n",
      "2024-11-02    Ipswich Town   1–1  Leicester City         Portman Road Stadium           1           1   Draw            2\n",
      "2024-11-02          Wolves   2–2  Crystal Palace             Molineux Stadium           2           2   Draw            4\n",
      "2024-11-03  Manchester Utd   1–1         Chelsea                 Old Trafford           1           1   Draw            2\n",
      "2024-11-09        West Ham   0–0         Everton               London Stadium           0           0   Draw            0\n",
      "2024-11-10         Chelsea   1–1         Arsenal              Stamford Bridge           1           1   Draw            2\n",
      "2024-11-23     Aston Villa   2–2  Crystal Palace                   Villa Park           2           2   Draw            4\n",
      "2024-11-23         Everton   0–0       Brentford                Goodison Park           0           0   Draw            0\n",
      "2024-11-24    Ipswich Town   1–1  Manchester Utd         Portman Road Stadium           1           1   Draw            2\n",
      "2024-11-29        Brighton   1–1     Southampton The American Express Stadium           1           1   Draw            2\n",
      "2024-11-30  Crystal Palace   1–1   Newcastle Utd                Selhurst Park           1           1   Draw            2\n",
      "2024-12-01       Tottenham   1–1          Fulham    Tottenham Hotspur Stadium           1           1   Draw            2\n",
      "2024-12-04   Newcastle Utd   3–3       Liverpool               St James' Park           3           3   Draw            6\n",
      "2024-12-07  Crystal Palace   2–2 Manchester City                Selhurst Park           2           2   Draw            4\n",
      "2024-12-08          Fulham   1–1         Arsenal               Craven Cottage           1           1   Draw            2\n",
      "2024-12-08  Leicester City   2–2        Brighton           King Power Stadium           2           2   Draw            4\n",
      "2024-12-14         Arsenal   0–0         Everton             Emirates Stadium           0           0   Draw            0\n",
      "2024-12-14       Liverpool   2–2          Fulham                      Anfield           2           2   Draw            4\n",
      "2024-12-16     Bournemouth   1–1        West Ham             Vitality Stadium           1           1   Draw            2\n",
      "2024-12-21        West Ham   1–1        Brighton               London Stadium           1           1   Draw            2\n",
      "2024-12-22          Fulham   0–0     Southampton               Craven Cottage           0           0   Draw            0\n",
      "2024-12-22         Everton   0–0         Chelsea                Goodison Park           0           0   Draw            0\n",
      "2024-12-26 Manchester City   1–1         Everton               Etihad Stadium           1           1   Draw            2\n",
      "2024-12-26     Bournemouth   0–0  Crystal Palace             Vitality Stadium           0           0   Draw            0\n",
      "2024-12-27        Brighton   0–0       Brentford The American Express Stadium           0           0   Draw            0\n",
      "2024-12-29       Tottenham   2–2          Wolves    Tottenham Hotspur Stadium           2           2   Draw            4\n",
      "2024-12-29          Fulham   2–2     Bournemouth               Craven Cottage           2           2   Draw            4\n",
      "2024-12-30     Aston Villa   2–2        Brighton                   Villa Park           2           2   Draw            4\n",
      "2025-01-04  Crystal Palace   1–1         Chelsea                Selhurst Park           1           1   Draw            2\n",
      "2025-01-04        Brighton   1–1         Arsenal The American Express Stadium           1           1   Draw            2\n",
      "2025-01-05       Liverpool   2–2  Manchester Utd                      Anfield           2           2   Draw            4\n",
      "2025-01-05          Fulham   2–2    Ipswich Town               Craven Cottage           2           2   Draw            4\n",
      "2025-01-14       Brentford   2–2 Manchester City      Gtech Community Stadium           2           2   Draw            4\n",
      "2025-01-14         Chelsea   2–2     Bournemouth              Stamford Bridge           2           2   Draw            4\n",
      "2025-01-14 Nott'ham Forest   1–1       Liverpool              The City Ground           1           1   Draw            2\n",
      "2025-01-18         Arsenal   2–2     Aston Villa             Emirates Stadium           2           2   Draw            4\n",
      "2025-01-26     Aston Villa   1–1        West Ham                   Villa Park           1           1   Draw            2\n"
     ]
    }
   ],
   "source": [
    "# View matches with a specific result type (Home Win, Away Win, Draw)\n",
    "match_result = \"Draw\"  # Change to \"Away Win\" or \"Draw\"\n",
    "filtered_matches = df[df[\"Result\"] == match_result]\n",
    "print(f\"\\n📊 {match_result} Matches:\\n\")\n",
    "print(filtered_matches.to_string(index=False))\n",
    "\n"
   ]
  },
  {
   "cell_type": "code",
   "execution_count": 48,
   "id": "7f637cbb",
   "metadata": {},
   "outputs": [
    {
     "name": "stdout",
     "output_type": "stream",
     "text": [
      "\n",
      "🔥 Top Scoring Matches:\n",
      "\n",
      "      Date       Home Team Score Away Team                     Venue  Home Goals  Away Goals   Result  Total Goals\n",
      "2024-12-22       Tottenham   3–6 Liverpool Tottenham Hotspur Stadium           3           6 Away Win            9\n",
      "2024-10-05       Brentford   5–3    Wolves   Gtech Community Stadium           5           3 Home Win            8\n",
      "2024-08-25          Wolves   2–6   Chelsea          Molineux Stadium           2           6 Away Win            8\n",
      "2025-02-01 Nott'ham Forest   7–0  Brighton           The City Ground           7           0 Home Win            7\n",
      "2024-12-08       Tottenham   3–4   Chelsea Tottenham Hotspur Stadium           3           4 Away Win            7\n"
     ]
    }
   ],
   "source": [
    "# View top-scoring matches (sorted by total goals)\n",
    "df[\"Total Goals\"] = df[\"Home Goals\"] + df[\"Away Goals\"]\n",
    "top_scoring_matches = df.sort_values(by=\"Total Goals\", ascending=False).head(5)\n",
    "print(\"\\n🔥 Top Scoring Matches:\\n\")\n",
    "print(top_scoring_matches.to_string(index=False))"
   ]
  }
 ],
 "metadata": {
  "kernelspec": {
   "display_name": "Python 3 (ipykernel)",
   "language": "python",
   "name": "python3"
  },
  "language_info": {
   "codemirror_mode": {
    "name": "ipython",
    "version": 3
   },
   "file_extension": ".py",
   "mimetype": "text/x-python",
   "name": "python",
   "nbconvert_exporter": "python",
   "pygments_lexer": "ipython3",
   "version": "3.10.7"
  }
 },
 "nbformat": 4,
 "nbformat_minor": 5
}
